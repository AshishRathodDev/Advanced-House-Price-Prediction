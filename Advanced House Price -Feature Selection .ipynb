{
 "cells": [
  {
   "cell_type": "markdown",
   "id": "480a4460-bc0c-4434-81fe-2664745c5fa5",
   "metadata": {},
   "source": [
    "# Feature Selection Advanced House Price Prediction"
   ]
  },
  {
   "cell_type": "markdown",
   "id": "f0134e58-d8c0-40b9-8fa3-f8112033f0fe",
   "metadata": {},
   "source": [
    "### Objective: Identify the most relevant features that significantly impact house prices\n",
    "### Using Lasso Regression for intelligent feature selection"
   ]
  },
  {
   "cell_type": "code",
   "execution_count": null,
   "id": "52f5d9a6-051e-455d-a2e3-ac49fb470065",
   "metadata": {},
   "outputs": [],
   "source": []
  },
  {
   "cell_type": "code",
   "execution_count": null,
   "id": "922614c5-5fbb-4629-af40-b091dc90e497",
   "metadata": {},
   "outputs": [],
   "source": [
    "import pandas as pd\n",
    "import numpy as np \n",
    "\n",
    "import matplotlib.pyplot as plt\n",
    "\n",
    "%matplotlib inline\n",
    "\n"
   ]
  },
  {
   "cell_type": "code",
   "execution_count": null,
   "id": "1fafecc6-bee0-42ce-b2e8-bf338a1c5d77",
   "metadata": {},
   "outputs": [],
   "source": [
    "# for feature slection\n",
    "\n",
    "from sklearn.linear_model import Lasso\n",
    "from sklearn.feature_selection import SelectFromModel"
   ]
  },
  {
   "cell_type": "code",
   "execution_count": null,
   "id": "9d83e1af-459a-46aa-aaf1-2cf088174510",
   "metadata": {},
   "outputs": [],
   "source": [
    "#to.visualise all the columns in the dataframe\n",
    "pd.pandas.set_option('display.max_columns',None)\n"
   ]
  },
  {
   "cell_type": "code",
   "execution_count": null,
   "id": "ef3bc845-a24d-4035-910b-6c75bb7194a6",
   "metadata": {},
   "outputs": [],
   "source": [
    "df=pd.read_csv('X_train.csv')\n"
   ]
  },
  {
   "cell_type": "code",
   "execution_count": null,
   "id": "40ef931c-70d4-4332-8de4-254db009b0e8",
   "metadata": {},
   "outputs": [],
   "source": [
    "df.head()"
   ]
  },
  {
   "cell_type": "code",
   "execution_count": null,
   "id": "c384cd71-360d-4cc1-91cb-0b0e16edc0ab",
   "metadata": {},
   "outputs": [],
   "source": [
    "# Capture the dependent feature \n",
    "y_train=df['SalePrice']"
   ]
  },
  {
   "cell_type": "code",
   "execution_count": null,
   "id": "dc4d133a-ddcb-42db-9abd-1a6bd548cefb",
   "metadata": {},
   "outputs": [],
   "source": [
    "# drop dependent feature from dataset (df)\n",
    "\n",
    "x_train=df.drop(['Id','SalePrice'],axis=1)"
   ]
  },
  {
   "cell_type": "code",
   "execution_count": null,
   "id": "e788be2e-4588-4214-8bb1-2c6620f3a93d",
   "metadata": {},
   "outputs": [],
   "source": [
    "### Apply Feature Selection\n",
    "# first, I specify the Lasso Regression model, and I\n",
    "# select a suitable alpha (equivalent of penalty).\n",
    "# The bigger the alpha the less features that will be selected.\n",
    "\n",
    "# Then I use the selectFromModel object from sklearn, which\n",
    "# will select the features which coefficients are non-zero\n"
   ]
  },
  {
   "cell_type": "code",
   "execution_count": null,
   "id": "926a010e-75b0-4358-b206-b3e820391a3d",
   "metadata": {},
   "outputs": [],
   "source": [
    "\n",
    "feature_sel_model=SelectFromModel(Lasso(alpha=0.005,random_state=0))\n",
    "\n",
    "feature_sel_model.fit(x_train,y_train)"
   ]
  },
  {
   "cell_type": "code",
   "execution_count": null,
   "id": "30b1159e-beea-49c9-b2f4-0e03114e0c94",
   "metadata": {},
   "outputs": [],
   "source": [
    "feature_sel_model.get_support()"
   ]
  },
  {
   "cell_type": "code",
   "execution_count": null,
   "id": "606f39ea-5e52-426a-9524-d3f16954f762",
   "metadata": {},
   "outputs": [],
   "source": [
    "#  print the number of total and selected features\n",
    "\n",
    "selected_feat=x_train.columns[(feature_sel_model.get_support())]\n",
    "\n",
    "# print some stats\n",
    "print('total features: {}'.format(x_train.shape[1]))\n",
    "print('selected features: {}'.format(len(selected_feat)))\n",
    "print('feature with coefficients shrank to zero: {}'.format(\n",
    "    np.sum(feature_sel_model.estimator_.coef_== 0)))"
   ]
  },
  {
   "cell_type": "code",
   "execution_count": null,
   "id": "05754f53-4216-478e-873c-c304a107832d",
   "metadata": {},
   "outputs": [],
   "source": [
    "selected_feat"
   ]
  },
  {
   "cell_type": "code",
   "execution_count": null,
   "id": "99466d91-2f76-45c1-bcfd-5267f3c5a1d5",
   "metadata": {},
   "outputs": [],
   "source": [
    "x_train[selected_feat].head()"
   ]
  },
  {
   "cell_type": "code",
   "execution_count": null,
   "id": "20b4e0b6-7770-49a8-be54-b97a7c6f871c",
   "metadata": {},
   "outputs": [],
   "source": [
    "X_train=x_train[selected_feat].head()"
   ]
  },
  {
   "cell_type": "code",
   "execution_count": null,
   "id": "45f02827-8aca-4950-b9a9-a3f9c95e9d16",
   "metadata": {},
   "outputs": [],
   "source": [
    "X_train.head()"
   ]
  },
  {
   "cell_type": "code",
   "execution_count": null,
   "id": "66184764-9acb-4a2b-998f-ff94c08b6299",
   "metadata": {},
   "outputs": [],
   "source": []
  }
 ],
 "metadata": {
  "kernelspec": {
   "display_name": "Python 3 (m1env)",
   "language": "python",
   "name": "m1env"
  },
  "language_info": {
   "codemirror_mode": {
    "name": "ipython",
    "version": 3
   },
   "file_extension": ".py",
   "mimetype": "text/x-python",
   "name": "python",
   "nbconvert_exporter": "python",
   "pygments_lexer": "ipython3",
   "version": "3.9.21"
  }
 },
 "nbformat": 4,
 "nbformat_minor": 5
}
